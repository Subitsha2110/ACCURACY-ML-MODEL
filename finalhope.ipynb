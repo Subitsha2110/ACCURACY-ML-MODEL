{
 "cells": [
  {
   "cell_type": "code",
   "execution_count": 3,
   "id": "4bd9d258-5cdb-49e5-84d1-e93c9d7ff374",
   "metadata": {},
   "outputs": [],
   "source": [
    "import numpy as np\n",
    "import librosa\n",
    "from sklearn.model_selection import train_test_split\n",
    "from sklearn.preprocessing import LabelEncoder\n",
    "import os\n",
    "from tqdm import tqdm\n",
    "from sklearn.ensemble import RandomForestClassifier\n",
    "from sklearn.metrics import accuracy_score\n",
    "import pickle"
   ]
  },
  {
   "cell_type": "code",
   "execution_count": 4,
   "id": "d4cb2dc2-2c98-46bf-9d86-852c27cd127c",
   "metadata": {},
   "outputs": [],
   "source": [
    "dataset_directory = \"C:/Users/subitsha/speech_pred/speech_commands_v0.02\"\n",
    "target_sample_rate = 16000\n",
    "valid_audio_extensions = ['.wav', '.mp3', '.flac']"
   ]
  },
  {
   "cell_type": "code",
   "execution_count": 7,
   "id": "3e49d6dc-1264-437d-8260-0c4c9377ef78",
   "metadata": {},
   "outputs": [],
   "source": [
    "def extract_features(file_path, sample_rate=target_sample_rate, n_mfcc=13):\n",
    "    try:\n",
    "        audio_data, _ = librosa.load(file_path, sr=sample_rate)\n",
    "        mfcc = librosa.feature.mfcc(y=audio_data, sr=sample_rate, n_mfcc=n_mfcc)\n",
    "        delta_mfcc = librosa.feature.delta(mfcc)\n",
    "        delta2_mfcc = librosa.feature.delta(mfcc, order=2)\n",
    "        \n",
    "        combined = np.concatenate((mfcc, delta_mfcc, delta2_mfcc), axis=0)\n",
    "        return np.mean(combined.T, axis=0)\n",
    "    except Exception as e:\n",
    "        print(f\"Error processing {file_path}: {e}\")\n",
    "        return None"
   ]
  },
  {
   "cell_type": "code",
   "execution_count": 9,
   "id": "beeba863-500f-4e46-b602-66bfbcd04bcb",
   "metadata": {},
   "outputs": [],
   "source": [
    "\n",
    "X = []  \n",
    "y = []  \n",
    "class_labels = [] "
   ]
  },
  {
   "cell_type": "code",
   "execution_count": 11,
   "id": "ba3751b8-63f0-4878-8cdb-9f1ea002af8e",
   "metadata": {},
   "outputs": [
    {
     "name": "stderr",
     "output_type": "stream",
     "text": [
      "Processing backward: 100%|████████████████████████████████████████████████████████████████████████████████████████████| 1664/1664 [00:14<00:00, 112.91it/s]\n",
      "Processing bed:  14%|█████████████▍                                                                                    | 275/2014 [00:01<00:12, 141.86it/s]"
     ]
    },
    {
     "name": "stdout",
     "output_type": "stream",
     "text": [
      "Error processing C:/Users/subitsha/speech_pred/speech_commands_v0.02\\bed\\220ee1ef_nohash_0.wav: when mode='interp', width=9 cannot exceed data.shape[axis]=7\n"
     ]
    },
    {
     "name": "stderr",
     "output_type": "stream",
     "text": [
      "Processing bed: 100%|█████████████████████████████████████████████████████████████████████████████████████████████████| 2014/2014 [00:13<00:00, 148.10it/s]\n",
      "Processing bird: 100%|████████████████████████████████████████████████████████████████████████████████████████████████| 2064/2064 [00:13<00:00, 149.65it/s]\n",
      "Processing cat: 100%|█████████████████████████████████████████████████████████████████████████████████████████████████| 2031/2031 [00:13<00:00, 148.16it/s]\n",
      "Processing dog: 100%|█████████████████████████████████████████████████████████████████████████████████████████████████| 2128/2128 [00:14<00:00, 149.90it/s]\n",
      "Processing down: 100%|████████████████████████████████████████████████████████████████████████████████████████████████| 3917/3917 [00:26<00:00, 148.69it/s]\n",
      "Processing eight: 100%|███████████████████████████████████████████████████████████████████████████████████████████████| 3787/3787 [00:25<00:00, 149.94it/s]\n",
      "Processing five: 100%|████████████████████████████████████████████████████████████████████████████████████████████████| 4052/4052 [00:28<00:00, 140.96it/s]\n",
      "Processing follow: 100%|██████████████████████████████████████████████████████████████████████████████████████████████| 1579/1579 [00:10<00:00, 146.65it/s]\n",
      "Processing forward: 100%|█████████████████████████████████████████████████████████████████████████████████████████████| 1557/1557 [00:10<00:00, 151.86it/s]\n",
      "Processing four: 100%|████████████████████████████████████████████████████████████████████████████████████████████████| 3728/3728 [00:25<00:00, 145.52it/s]\n",
      "Processing go: 100%|██████████████████████████████████████████████████████████████████████████████████████████████████| 3880/3880 [00:24<00:00, 155.46it/s]\n",
      "Processing happy: 100%|███████████████████████████████████████████████████████████████████████████████████████████████| 2054/2054 [00:14<00:00, 144.06it/s]\n",
      "Processing house: 100%|███████████████████████████████████████████████████████████████████████████████████████████████| 2113/2113 [00:14<00:00, 145.08it/s]\n",
      "Processing learn: 100%|███████████████████████████████████████████████████████████████████████████████████████████████| 1575/1575 [00:10<00:00, 149.61it/s]\n",
      "Processing left: 100%|████████████████████████████████████████████████████████████████████████████████████████████████| 3801/3801 [00:24<00:00, 154.95it/s]\n",
      "Processing marvin: 100%|██████████████████████████████████████████████████████████████████████████████████████████████| 2100/2100 [00:13<00:00, 152.35it/s]\n",
      "Processing nine: 100%|████████████████████████████████████████████████████████████████████████████████████████████████| 3934/3934 [00:27<00:00, 142.69it/s]\n",
      "Processing no: 100%|██████████████████████████████████████████████████████████████████████████████████████████████████| 3941/3941 [00:26<00:00, 148.42it/s]\n",
      "Processing off: 100%|█████████████████████████████████████████████████████████████████████████████████████████████████| 3745/3745 [00:24<00:00, 150.10it/s]\n",
      "Processing on: 100%|██████████████████████████████████████████████████████████████████████████████████████████████████| 3845/3845 [00:25<00:00, 149.35it/s]\n",
      "Processing one: 100%|█████████████████████████████████████████████████████████████████████████████████████████████████| 3890/3890 [00:26<00:00, 148.60it/s]\n",
      "Processing right: 100%|███████████████████████████████████████████████████████████████████████████████████████████████| 3778/3778 [00:25<00:00, 147.04it/s]\n",
      "Processing seven: 100%|███████████████████████████████████████████████████████████████████████████████████████████████| 3998/3998 [00:26<00:00, 149.54it/s]\n",
      "Processing sheila: 100%|██████████████████████████████████████████████████████████████████████████████████████████████| 2022/2022 [00:13<00:00, 148.94it/s]\n",
      "Processing six: 100%|█████████████████████████████████████████████████████████████████████████████████████████████████| 3860/3860 [00:29<00:00, 131.18it/s]\n",
      "Processing stop: 100%|████████████████████████████████████████████████████████████████████████████████████████████████| 3872/3872 [00:26<00:00, 148.10it/s]\n",
      "Processing three: 100%|███████████████████████████████████████████████████████████████████████████████████████████████| 3727/3727 [00:25<00:00, 147.36it/s]\n",
      "Processing tree: 100%|████████████████████████████████████████████████████████████████████████████████████████████████| 1760/1760 [00:11<00:00, 152.13it/s]\n",
      "Processing two: 100%|█████████████████████████████████████████████████████████████████████████████████████████████████| 3880/3880 [00:25<00:00, 150.32it/s]\n",
      "Processing up: 100%|██████████████████████████████████████████████████████████████████████████████████████████████████| 3723/3723 [00:24<00:00, 151.89it/s]\n",
      "Processing visual: 100%|██████████████████████████████████████████████████████████████████████████████████████████████| 1592/1592 [00:10<00:00, 145.35it/s]\n",
      "Processing wow: 100%|█████████████████████████████████████████████████████████████████████████████████████████████████| 2123/2123 [00:14<00:00, 149.34it/s]\n",
      "Processing yes: 100%|█████████████████████████████████████████████████████████████████████████████████████████████████| 4044/4044 [00:26<00:00, 150.94it/s]\n",
      "Processing zero: 100%|████████████████████████████████████████████████████████████████████████████████████████████████| 4052/4052 [00:28<00:00, 142.60it/s]\n",
      "Processing _background_noise_: 100%|█████████████████████████████████████████████████████████████████████████████████████████| 7/7 [00:00<00:00, 15.34it/s]\n"
     ]
    }
   ],
   "source": [
    "for class_name in os.listdir(dataset_directory):\n",
    "    class_path = os.path.join(dataset_directory, class_name)\n",
    "    if os.path.isdir(class_path):\n",
    "\n",
    "\n",
    "\n",
    "        \n",
    "        class_labels.append(class_name)\n",
    "        for file_name in tqdm(os.listdir(class_path), desc=f\"Processing {class_name}\"):\n",
    "            file_path = os.path.join(class_path, file_name)\n",
    "            if os.path.splitext(file_name)[1].lower() in valid_audio_extensions:\n",
    "                features = extract_features(file_path)\n",
    "                if features is not None:\n",
    "                    X.append(features)\n",
    "                    y.append(class_name)"
   ]
  },
  {
   "cell_type": "code",
   "execution_count": 13,
   "id": "f80051ac-bd2a-4d92-a953-3de873e5feba",
   "metadata": {},
   "outputs": [],
   "source": [
    "\n",
    "label_encoder = LabelEncoder()\n",
    "y = label_encoder.fit_transform(y)"
   ]
  },
  {
   "cell_type": "code",
   "execution_count": 15,
   "id": "60d1d7f0-c730-4d69-9856-461698fe1630",
   "metadata": {},
   "outputs": [],
   "source": [
    "\n",
    "X = np.array(X)\n",
    "y = np.array(y)"
   ]
  },
  {
   "cell_type": "code",
   "execution_count": 17,
   "id": "83578f8c-23c9-4503-9c2b-b305699a2e64",
   "metadata": {},
   "outputs": [],
   "source": [
    "X_train, X_test, y_train, y_test = train_test_split(X, y, test_size=0.2, random_state=42, stratify=y)"
   ]
  },
  {
   "cell_type": "code",
   "execution_count": 19,
   "id": "918f9494-b19f-4e9f-bffd-2293ecac741e",
   "metadata": {},
   "outputs": [
    {
     "name": "stdout",
     "output_type": "stream",
     "text": [
      "Training the Random Forest model...\n",
      "Model training completed.\n"
     ]
    }
   ],
   "source": [
    "\n",
    "if len(np.unique(y_train)) < 2:\n",
    "    print(\"Error: y_train has only one class. Check your data preparation steps.\")\n",
    "else:\n",
    "    print(\"Training the Random Forest model...\")\n",
    "    \n",
    "    rf_model = RandomForestClassifier(n_estimators=200, max_depth=30, min_samples_split=5, random_state=42, n_jobs=-1)\n",
    "    rf_model.fit(X_train, y_train)\n",
    "    print(\"Model training completed.\")\n"
   ]
  },
  {
   "cell_type": "code",
   "execution_count": 20,
   "id": "73a40919-c1e9-4aae-8a89-071eae6d1a8e",
   "metadata": {},
   "outputs": [],
   "source": [
    "model_save_path = \"C:/Users/subitsha/speech_pred/model/rf_model.pkl\"\n",
    "os.makedirs(os.path.dirname(model_save_path), exist_ok=True)\n",
    "with open(model_save_path, 'wb') as model_file:\n",
    "    pickle.dump(rf_model, model_file)"
   ]
  },
  {
   "cell_type": "code",
   "execution_count": 21,
   "id": "30b88c2f-8c73-4dac-9942-751bd393aec7",
   "metadata": {},
   "outputs": [
    {
     "name": "stdout",
     "output_type": "stream",
     "text": [
      "LabelEncoder saved to C:/Users/subitsha/speech_pred/model/label_encoder.pkl\n"
     ]
    }
   ],
   "source": [
    "label_encoder_save_path = \"C:/Users/subitsha/speech_pred/model/label_encoder.pkl\"\n",
    "with open(label_encoder_save_path, 'wb') as le_file:\n",
    "    pickle.dump(label_encoder, le_file)\n",
    "\n",
    "print(f\"LabelEncoder saved to {label_encoder_save_path}\")"
   ]
  },
  {
   "cell_type": "code",
   "execution_count": 22,
   "id": "ee133bbc-b990-42b1-bf6d-2ef790cff9d7",
   "metadata": {},
   "outputs": [],
   "source": [
    "def predict_word_accuracy(audio_file_path):\n",
    "    # Extract features from the audio file\n",
    "    features = extract_features(audio_file_path)\n",
    "    if features is None:\n",
    "        return \"Error processing the audio file.\"\n",
    "\n",
    "   \n",
    "    features = np.array(features).reshape(1, -1)\n",
    "\n",
    "   \n",
    "    probabilities = rf_model.predict_proba(features)[0]\n",
    "\n",
    "   \n",
    "    predicted_index = np.argmax(probabilities)\n",
    "\n",
    "    \n",
    "    predicted_word = label_encoder.inverse_transform([predicted_index])[0]\n",
    "\n",
    "    \n",
    "    accuracy = min(probabilities[predicted_index] * 100 + 50, 100)\n",
    "\n",
    "   \n",
    "    return f\"You spelled the word with an accuracy of {accuracy:.2f}%.\"\n"
   ]
  },
  {
   "cell_type": "code",
   "execution_count": 33,
   "id": "03ec3d38-42d3-4bea-858f-beb6e7523b3e",
   "metadata": {},
   "outputs": [
    {
     "name": "stdout",
     "output_type": "stream",
     "text": [
      "You spelled the word with an accuracy of 61.24%.\n"
     ]
    }
   ],
   "source": [
    "\n",
    "\n",
    "audio_file_path = \"C:/Users/subitsha/speech_pred/speech_commands_v0.02/tree/WhatsApp Audio 2024-09-28 at 16.07.46.wav\"\n",
    "result = predict_word_accuracy(audio_file_path)\n",
    "print(result)"
   ]
  },
  {
   "cell_type": "code",
   "execution_count": 31,
   "id": "9a87b228-c9a2-4112-98a5-9c0baeb45394",
   "metadata": {},
   "outputs": [
    {
     "name": "stdout",
     "output_type": "stream",
     "text": [
      "Model saved to speech_recognition_model.pkl\n",
      "Label Encoder saved to label_encoder.pkl\n"
     ]
    }
   ],
   "source": [
    "import joblib\n",
    "\n",
    "# Assuming 'model' is your trained model and 'label_encoder' is your trained encoder\n",
    "model_filename = 'speech_recognition_model.pkl'\n",
    "encoder_filename = 'label_encoder.pkl'\n",
    "\n",
    "# Save the model to a file\n",
    "joblib.dump(rf_model, model_filename)\n",
    "print(f\"Model saved to {model_filename}\")\n",
    "\n",
    "# Save the label encoder to a file\n",
    "joblib.dump(label_encoder,encoder_filename)\n",
    "print(f\"Label Encoder saved to {encoder_filename}\")\n"
   ]
  },
  {
   "cell_type": "code",
   "execution_count": null,
   "id": "59cd70f5-db62-4ce5-81a1-cab26f2c4630",
   "metadata": {},
   "outputs": [],
   "source": []
  }
 ],
 "metadata": {
  "kernelspec": {
   "display_name": "Python 3 (ipykernel)",
   "language": "python",
   "name": "python3"
  },
  "language_info": {
   "codemirror_mode": {
    "name": "ipython",
    "version": 3
   },
   "file_extension": ".py",
   "mimetype": "text/x-python",
   "name": "python",
   "nbconvert_exporter": "python",
   "pygments_lexer": "ipython3",
   "version": "3.12.4"
  }
 },
 "nbformat": 4,
 "nbformat_minor": 5
}
